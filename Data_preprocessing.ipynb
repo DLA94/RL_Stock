{
 "cells": [
  {
   "cell_type": "code",
   "execution_count": 1,
   "id": "143cb555",
   "metadata": {
    "ExecuteTime": {
     "end_time": "2022-10-06T06:45:42.971318Z",
     "start_time": "2022-10-06T06:45:42.322958Z"
    }
   },
   "outputs": [],
   "source": [
    "%matplotlib inline"
   ]
  },
  {
   "cell_type": "code",
   "execution_count": 2,
   "id": "75e588c8",
   "metadata": {
    "ExecuteTime": {
     "end_time": "2022-10-06T06:45:43.256564Z",
     "start_time": "2022-10-06T06:45:42.972287Z"
    }
   },
   "outputs": [],
   "source": [
    "import pandas as pd\n",
    "import numpy as np\n",
    "from Config import *"
   ]
  },
  {
   "cell_type": "code",
   "execution_count": 3,
   "id": "e5661745",
   "metadata": {
    "ExecuteTime": {
     "end_time": "2022-10-06T06:45:46.609742Z",
     "start_time": "2022-10-06T06:45:43.258529Z"
    },
    "scrolled": true
   },
   "outputs": [
    {
     "name": "stdout",
     "output_type": "stream",
     "text": [
      "The shape of data:(426261, 54)\n"
     ]
    }
   ],
   "source": [
    "data_1 = pd.read_csv(r\"/Reinforcement_Learning_for_Stock_investment/Data/Original_data/mlpart1new.csv\")\n",
    "data_2 = pd.read_csv(r\"/Reinforcement_Learning_for_Stock_investment/Data/Original_data/mlpart2new.csv\")\n",
    "data = pd.concat([data_1,data_2])\n",
    "\n",
    "data[\"step\"] = data[\"29\"]\n",
    "data[\"date\"] = pd.to_datetime(data[\"date\"], format=\"%Y%m%d\")\n",
    "\n",
    "data.sort_values(by=[\"date\", \"step\"], ascending=True, inplace=True, ignore_index=True)\n",
    "\n",
    "data.drop(labels=[\"Unnamed: 0\", \"Unnamed: 0.1\", \"code\", \"minute\", \"29\", \"33\", \"40\"], axis=1, inplace=True)\n",
    "\n",
    "print(\"The shape of data:{}\".format(data.shape))"
   ]
  },
  {
   "cell_type": "code",
   "execution_count": 4,
   "id": "2d46f9f3",
   "metadata": {
    "ExecuteTime": {
     "end_time": "2022-10-06T06:45:46.767796Z",
     "start_time": "2022-10-06T06:45:46.610769Z"
    }
   },
   "outputs": [
    {
     "name": "stdout",
     "output_type": "stream",
     "text": [
      "count    419091.000000\n",
      "mean          2.681431\n",
      "std           3.850636\n",
      "min          -6.000000\n",
      "25%           0.760215\n",
      "50%           1.772228\n",
      "75%           3.345487\n",
      "max         131.130665\n",
      "Name: 48, dtype: float64\n"
     ]
    },
    {
     "data": {
      "image/png": "[encoded data removed]",
      "text/plain": [
       "<Figure size 432x288 with 1 Axes>"
      ]
     },
     "metadata": {
      "needs_background": "light"
     },
     "output_type": "display_data"
    }
   ],
   "source": [
    "# draw the distribution of one feature\n",
    "def draw_distribution(column_name=\"1\"):\n",
    "    data[column_name].hist()\n",
    "    print(data[column_name].describe())\n",
    "\n",
    "draw_distribution(column_name=\"48\")"
   ]
  },
  {
   "cell_type": "code",
   "execution_count": 5,
   "id": "0854ccab",
   "metadata": {
    "ExecuteTime": {
     "end_time": "2022-10-06T06:45:47.814955Z",
     "start_time": "2022-10-06T06:45:46.769749Z"
    },
    "scrolled": false
   },
   "outputs": [],
   "source": [
    "def feature_preprocessing(df):\n",
    "    \"\"\"\n",
    "    preprcess feature according to distribution\n",
    "    \"\"\"\n",
    "    df[\"1\"].clip(lower=-0.02, upper=0.075, inplace=True)\n",
    "    \n",
    "    df[\"2\"].clip(upper=0.007, inplace=True)\n",
    "    \n",
    "    df[\"3\"].clip(upper=0.025, inplace=True)\n",
    "    df[\"3\"] = df[\"3\"].apply(lambda x: x**(1/2))\n",
    "    \n",
    "    df[\"6\"].clip(upper=0.01, inplace=True)\n",
    "    \n",
    "    df[\"9\"] = df[\"9\"].apply(np.log)\n",
    "    \n",
    "    df[\"10\"] = (df[\"10\"]+1).apply(np.log)\n",
    "    \n",
    "    df[\"11\"] = df[\"11\"].apply(np.log)\n",
    "    \n",
    "    df[\"12\"].clip(upper=0.4, inplace=True)\n",
    "    \n",
    "    df[\"13\"] = df[\"13\"].apply(lambda x: x**(1/2))\n",
    "    \n",
    "    df[\"18\"] = (df[\"18\"]+1).apply(np.log)\n",
    "    \n",
    "    df[\"19\"] = (df[\"19\"]+1).apply(np.log)\n",
    "    \n",
    "    df[\"20\"] = df[\"20\"].apply(np.log)\n",
    "    \n",
    "    df[\"21\"].clip(upper=2, inplace=True)\n",
    "    \n",
    "    df[\"22\"].clip(upper=2, inplace=True)\n",
    "    \n",
    "    df[\"23\"] = (df[\"23\"]+1).apply(np.log)\n",
    "    df[\"23\"].clip(upper=1.75, inplace=True)\n",
    "    \n",
    "    df[\"24\"] = (df[\"24\"]+1).apply(np.log)\n",
    "    df[\"24\"].clip(upper=1.75, inplace=True)\n",
    "    \n",
    "    df[\"25\"] = (df[\"25\"]+1).apply(np.log)\n",
    "    df[\"25\"].clip(upper=1.75, inplace=True)\n",
    "    \n",
    "    df[\"26\"].clip(lower=-0.05, upper=0.05, inplace=True)\n",
    "    \n",
    "    df[\"27\"] = (-df[\"27\"]).apply(lambda x: x**(1/4))\n",
    "    \n",
    "    df[\"28\"] = df[\"28\"].apply(lambda x: x**(1/4))\n",
    "    \n",
    "    df[\"30\"].clip(lower=-0.4, inplace=True)\n",
    "    \n",
    "    df[\"31\"].clip(lower=-0.4, inplace=True)\n",
    "    \n",
    "    df[\"34\"] = df[\"34\"].apply(lambda x: x**(1/4))\n",
    "    \n",
    "    df[\"35\"] = (-data[\"35\"]).apply(lambda x: x**(1/2))\n",
    "    \n",
    "    df[\"36\"] = df[\"36\"].apply(lambda x: x**(1/2))\n",
    "    \n",
    "    df[\"37\"] = (df[\"37\"]+0.1).apply(np.log)    \n",
    "    \n",
    "    df[\"38\"].clip(upper=2.5, inplace=True)\n",
    "    \n",
    "    df[\"39\"].clip(upper=3, inplace=True)\n",
    "    \n",
    "    df[\"41\"].clip(lower=-0.025, upper=0.025, inplace=True)\n",
    "    \n",
    "    df[\"42\"].clip(lower=-0.025, upper=0.025, inplace=True)\n",
    "    \n",
    "    df[\"45\"].clip(lower=-0.1, upper=0.1, inplace=True)\n",
    "    \n",
    "    df[\"46\"].replace(np.inf, 1, inplace=True)\n",
    "    df[\"46\"].clip(upper=1, inplace=True)\n",
    "    df[\"46\"] = df[\"46\"].apply(lambda x: x**(1/4))\n",
    "    \n",
    "    df[\"47\"].clip(lower=-2.5, upper=3, inplace=True)\n",
    "    \n",
    "    df[\"48\"] = (data[\"48\"]+6).apply(np.log1p).clip(upper=3.5, lower=1.5)\n",
    "    \n",
    "    df[\"49\"].clip(upper=25, inplace=True)\n",
    "    \n",
    "    df[\"51\"].clip(lower=-3, upper=10, inplace=True)\n",
    "    \n",
    "    return df\n",
    "\n",
    "\n",
    "data = feature_preprocessing(data)"
   ]
  },
  {
   "cell_type": "code",
   "execution_count": 6,
   "id": "6c4d7b14",
   "metadata": {
    "ExecuteTime": {
     "end_time": "2022-10-06T06:46:12.003901Z",
     "start_time": "2022-10-06T06:45:47.815951Z"
    }
   },
   "outputs": [],
   "source": [
    "# Normalization and missing filling（foward fill）\n",
    "for i in range(53):\n",
    "    if i not in [29, 33, 40]:\n",
    "        data[str(i)] = (data[str(i)] - data[str(i)].min()) / (data[str(i)].max() - data[str(i)].min())\n",
    "        data[str(i)].fillna(0, inplace=True)\n",
    "        \n",
    "# print(data.describe())\n",
    "# print(data.isnull().sum(axis=0))\n",
    "\n",
    "data.to_csv(\"/Reinforcement_Learning_for_Stock_investment/Data/New_data/Stock_data.csv\", index=False)"
   ]
  },
  {
   "cell_type": "code",
   "execution_count": 7,
   "id": "39658106",
   "metadata": {
    "ExecuteTime": {
     "end_time": "2022-10-06T06:46:16.757407Z",
     "start_time": "2022-10-06T06:46:12.004899Z"
    },
    "scrolled": true
   },
   "outputs": [
    {
     "name": "stdout",
     "output_type": "stream",
     "text": [
      "The number of training data:189281\n",
      "The number of validation data:29371\n",
      "The number of testing data:207609\n"
     ]
    }
   ],
   "source": [
    "train_data = data_split(data, TRAIN_START, TRAIN_END)\n",
    "validation_data = data_split(data, VALIDATION_START, VALIDATION_END)\n",
    "test_data = data_split(data, TEST_START, TEST_END)\n",
    "\n",
    "print(\"The number of training data:{}\".format(len(train_data)))\n",
    "print(\"The number of validation data:{}\".format(len(validation_data)))\n",
    "print(\"The number of testing data:{}\".format(len(test_data)))"
   ]
  }
 ],
 "metadata": {
  "kernelspec": {
   "display_name": "Python 3 (ipykernel)",
   "language": "python",
   "name": "python3"
  },
  "language_info": {
   "codemirror_mode": {
    "name": "ipython",
    "version": 3
   },
   "file_extension": ".py",
   "mimetype": "text/x-python",
   "name": "python",
   "nbconvert_exporter": "python",
   "pygments_lexer": "ipython3",
   "version": "3.9.7"
  }
 },
 "nbformat": 4,
 "nbformat_minor": 5
}
